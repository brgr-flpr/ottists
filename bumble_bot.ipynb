{
 "cells": [
  {
   "cell_type": "code",
   "execution_count": 1,
   "id": "905d1414",
   "metadata": {},
   "outputs": [],
   "source": [
    "import time\n",
    "from PIL import Image\n",
    "from io import BytesIO\n",
    "import base64\n",
    "import os\n",
    "import psutil\n",
    "\n",
    "# Required Selenium Modules\n",
    "from selenium import webdriver\n",
    "from selenium.webdriver.edge.options import Options\n",
    "from selenium.webdriver.support.ui import WebDriverWait\n",
    "from selenium.webdriver.common.by import By\n",
    "from selenium.webdriver.common.keys import Keys\n",
    "from selenium.webdriver.support import expected_conditions as EC"
   ]
  },
  {
   "cell_type": "code",
   "execution_count": 2,
   "id": "9411c342",
   "metadata": {},
   "outputs": [],
   "source": [
    "### All the parameters needed for the bot\n",
    "### Once browser launches, log in to Bumble manually\n",
    "SCREENSHOTS_DIR = os.path.join(os.getcwd(), 'hinge_bot', 'data', 'bumble_screenshots')\n",
    "CLICK_FAILURE_THRESHOLD = 10\n",
    "WAIT_TIME = 2\n",
    "\n",
    "# Browser options\n",
    "headless = False\n",
    "options = Options()\n",
    "if headless:\n",
    "    # Experimental option to not show browser\n",
    "    options.add_argument(\"headless\")\n",
    "options.add_argument('disable-notifications')\n",
    "options.add_argument('no-sandbox')\n",
    "options.add_argument(\"start-maximized\")\n",
    "options.add_argument(\"inprivate\")\n",
    "\n",
    "# Launch browser\n",
    "browser = webdriver.Edge(options = options)\n",
    "browser.get('https://www.bumble.com/')\n",
    "\n",
    "# Function for getting first profile pic\n",
    "def get_bumble_screenshot(browser, screenshots_dir):\n",
    "    latest_sc_num = max([int(x.split('.')[0].split('_')[-1]) for x in os.listdir(screenshots_dir)])\n",
    "    photo_element = WebDriverWait(browser, 20).until(EC.presence_of_element_located((By.XPATH, '//div[contains(@class, \"album__story\")]')))\n",
    "    photo_element = photo_element.find_element(By.TAG_NAME, 'picture').find_element(By.TAG_NAME, 'img')\n",
    "    photo_location = photo_element.location\n",
    "    photo_size = photo_element.size\n",
    "    photo_screenshot = browser.get_screenshot_as_base64().encode()\n",
    "    screenshot = Image.open(BytesIO(base64.b64decode(photo_screenshot)))\n",
    "    screenshot = screenshot.crop((photo_location['x'], photo_location['y'], photo_location['x'] + photo_size['width'], photo_location['y'] + photo_size['height']))\n",
    "    screenshot.save(os.path.join(screenshots_dir, f'screenshot_{latest_sc_num + 1}.png'))\n",
    "    return"
   ]
  },
  {
   "cell_type": "code",
   "execution_count": 3,
   "id": "fa4c8efd",
   "metadata": {},
   "outputs": [],
   "source": [
    "### Looping through profiles\n",
    "NUM_PROFILES = 1000\n",
    "failures = 0\n",
    "for i in range(NUM_PROFILES):\n",
    "    if psutil.Process(browser.service.process.pid).is_running() == False:\n",
    "        break\n",
    "    try:\n",
    "        like_button = WebDriverWait(browser, 20).until(EC.presence_of_element_located((By.XPATH, \"//div[(@role='button') and (@aria-label = 'Like')]\")))\n",
    "        get_bumble_screenshot(browser, SCREENSHOTS_DIR)\n",
    "        like_button.click()\n",
    "    except:\n",
    "        failures += 1\n",
    "    \n",
    "    if failures > CLICK_FAILURE_THRESHOLD:\n",
    "        browser.close()\n",
    "        break\n",
    "\n",
    "    time.sleep(WAIT_TIME)"
   ]
  },
  {
   "cell_type": "code",
   "execution_count": null,
   "id": "8d08f383",
   "metadata": {},
   "outputs": [],
   "source": []
  }
 ],
 "metadata": {
  "kernelspec": {
   "display_name": "Python 3 (ipykernel)",
   "language": "python",
   "name": "python3"
  },
  "language_info": {
   "codemirror_mode": {
    "name": "ipython",
    "version": 3
   },
   "file_extension": ".py",
   "mimetype": "text/x-python",
   "name": "python",
   "nbconvert_exporter": "python",
   "pygments_lexer": "ipython3",
   "version": "3.9.13"
  }
 },
 "nbformat": 4,
 "nbformat_minor": 5
}
